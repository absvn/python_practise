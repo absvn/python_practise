{
 "cells": [
  {
   "cell_type": "code",
   "execution_count": 1,
   "id": "8ed4c9d9-608e-40cf-beff-ece7c5299ecb",
   "metadata": {},
   "outputs": [
    {
     "data": {
      "text/plain": [
       "24"
      ]
     },
     "execution_count": 1,
     "metadata": {},
     "output_type": "execute_result"
    }
   ],
   "source": [
    "import sys\n",
    "def max_sub_arr_sum(ar):\n",
    "    n = len(ar)\n",
    "    max_sum = -1*sys.maxsize\n",
    "    lat_sum = -1*sys.maxsize\n",
    "    for i in range(0,n):\n",
    "        if lat_sum >= 0:\n",
    "            lat_sum = lat_sum + ar[i]\n",
    "        else:\n",
    "            lat_sum = ar[i]\n",
    "        max_sum = max(lat_sum, max_sum)\n",
    "    return max_sum\n",
    "\n",
    "max_sub_arr_sum([1,2,6,8,-2,9,-9,-8,4])"
   ]
  },
  {
   "cell_type": "code",
   "execution_count": null,
   "id": "85038340-f697-4f25-aecb-3f84215231bb",
   "metadata": {},
   "outputs": [],
   "source": []
  }
 ],
 "metadata": {
  "kernelspec": {
   "display_name": "Python 3 (ipykernel)",
   "language": "python",
   "name": "python3"
  },
  "language_info": {
   "codemirror_mode": {
    "name": "ipython",
    "version": 3
   },
   "file_extension": ".py",
   "mimetype": "text/x-python",
   "name": "python",
   "nbconvert_exporter": "python",
   "pygments_lexer": "ipython3",
   "version": "3.10.6"
  }
 },
 "nbformat": 4,
 "nbformat_minor": 5
}
