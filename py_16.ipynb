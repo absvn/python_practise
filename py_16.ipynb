{
 "cells": [
  {
   "cell_type": "code",
   "execution_count": 1,
   "id": "d9cfa568-c7e7-4b13-b276-1c7a29e45b9c",
   "metadata": {},
   "outputs": [],
   "source": [
    "def angryProfessor(k, a):\n",
    "    t = 0\n",
    "    for i in a:\n",
    "        if i <= 0:\n",
    "            t += 1\n",
    "        else: \n",
    "            pass\n",
    "    if t >= k:\n",
    "        return 'NO'\n",
    "    else:\n",
    "        return 'YES'  "
   ]
  },
  {
   "cell_type": "code",
   "execution_count": 2,
   "id": "793f9973-6295-44c6-a1fe-3473bf0cee49",
   "metadata": {},
   "outputs": [
    {
     "data": {
      "text/plain": [
       "'YES'"
      ]
     },
     "execution_count": 2,
     "metadata": {},
     "output_type": "execute_result"
    }
   ],
   "source": [
    "angryProfessor(3, [-1, -3, 4, 2])"
   ]
  }
 ],
 "metadata": {
  "kernelspec": {
   "display_name": "Python 3 (ipykernel)",
   "language": "python",
   "name": "python3"
  },
  "language_info": {
   "codemirror_mode": {
    "name": "ipython",
    "version": 3
   },
   "file_extension": ".py",
   "mimetype": "text/x-python",
   "name": "python",
   "nbconvert_exporter": "python",
   "pygments_lexer": "ipython3",
   "version": "3.8.12"
  }
 },
 "nbformat": 4,
 "nbformat_minor": 5
}
