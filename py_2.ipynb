{
 "cells": [
  {
   "cell_type": "code",
   "execution_count": 1,
   "id": "3978c93b-c27f-40a7-a6ef-25b2d709bd3f",
   "metadata": {},
   "outputs": [],
   "source": [
    "def breakingRecords(scores):\n",
    "    high = 0\n",
    "    low = 0\n",
    "    lowest = 0\n",
    "    highest = 0\n",
    "    for i in range(len(scores)):\n",
    "        if i == 0:\n",
    "            highest = lowest = scores[i]\n",
    "        elif scores[i] > highest:    \n",
    "            highest = scores[i]\n",
    "            high += 1\n",
    "        elif scores[i] < lowest: \n",
    "            lowest = scores[i]\n",
    "            low += 1\n",
    "            \n",
    "    return high, low"
   ]
  },
  {
   "cell_type": "code",
   "execution_count": 2,
   "id": "c286bc99-fcec-4ea5-8001-6aa9e3f975e0",
   "metadata": {},
   "outputs": [
    {
     "data": {
      "text/plain": [
       "(2, 1)"
      ]
     },
     "execution_count": 2,
     "metadata": {},
     "output_type": "execute_result"
    }
   ],
   "source": [
    "breakingRecords([22,2,5,7,8,88,9,98])"
   ]
  }
 ],
 "metadata": {
  "kernelspec": {
   "display_name": "Python 3 (ipykernel)",
   "language": "python",
   "name": "python3"
  },
  "language_info": {
   "codemirror_mode": {
    "name": "ipython",
    "version": 3
   },
   "file_extension": ".py",
   "mimetype": "text/x-python",
   "name": "python",
   "nbconvert_exporter": "python",
   "pygments_lexer": "ipython3",
   "version": "3.8.12"
  }
 },
 "nbformat": 4,
 "nbformat_minor": 5
}
