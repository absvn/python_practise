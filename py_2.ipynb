def breakingRecords(scores):
    high = 0
    low = 0
    lowest = 0
    highest = 0
    for i in range(len(scores)):
        if i == 0:
            highest = lowest = scores[i]
        elif scores[i] > highest:    
            highest = scores[i]
            high += 1
        elif scores[i] < lowest: 
            lowest = scores[i]
            low += 1
            
    return high, low
