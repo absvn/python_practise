{
 "cells": [
  {
   "cell_type": "code",
   "execution_count": null,
   "id": "03dcdc23-0e1b-4eec-8b91-d00f38d1b4f1",
   "metadata": {},
   "outputs": [],
   "source": [
    "def catAndMouse(a, b, m):\n",
    "        ad, bd = 0,0\n",
    "        ad = abs(a-m)\n",
    "        bd = abs(b-m)\n",
    "        if ad > bd:\n",
    "            return('Cat B')\n",
    "        elif bd > ad:\n",
    "            return('Cat A')\n",
    "        else:\n",
    "            return('Mouse C')"
   ]
  }
 ],
 "metadata": {
  "kernelspec": {
   "display_name": "Python 3 (ipykernel)",
   "language": "python",
   "name": "python3"
  },
  "language_info": {
   "codemirror_mode": {
    "name": "ipython",
    "version": 3
   },
   "file_extension": ".py",
   "mimetype": "text/x-python",
   "name": "python",
   "nbconvert_exporter": "python",
   "pygments_lexer": "ipython3",
   "version": "3.8.12"
  }
 },
 "nbformat": 4,
 "nbformat_minor": 5
}
