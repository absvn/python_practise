{
 "cells": [
  {
   "cell_type": "code",
   "execution_count": 1,
   "id": "41173d20-cccb-4808-be04-1127ab26d5ce",
   "metadata": {},
   "outputs": [],
   "source": [
    "import math\n",
    "def viralAdvertising(n):\n",
    "    t = 5\n",
    "    k = 0\n",
    "    for i in range(n):\n",
    "        t = math.floor(t/2)\n",
    "        k += t\n",
    "        t = t * 3\n",
    "    return k"
   ]
  },
  {
   "cell_type": "code",
   "execution_count": 2,
   "id": "a472e884-02a6-4b96-8f34-e1e990c69159",
   "metadata": {},
   "outputs": [
    {
     "data": {
      "text/plain": [
       "9"
      ]
     },
     "execution_count": 2,
     "metadata": {},
     "output_type": "execute_result"
    }
   ],
   "source": [
    "viralAdvertising(3)"
   ]
  }
 ],
 "metadata": {
  "kernelspec": {
   "display_name": "Python 3 (ipykernel)",
   "language": "python",
   "name": "python3"
  },
  "language_info": {
   "codemirror_mode": {
    "name": "ipython",
    "version": 3
   },
   "file_extension": ".py",
   "mimetype": "text/x-python",
   "name": "python",
   "nbconvert_exporter": "python",
   "pygments_lexer": "ipython3",
   "version": "3.8.12"
  }
 },
 "nbformat": 4,
 "nbformat_minor": 5
}
