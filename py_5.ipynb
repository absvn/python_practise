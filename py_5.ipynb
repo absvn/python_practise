{
 "cells": [
  {
   "cell_type": "markdown",
   "id": "30a86531-08db-46fb-a73c-dc71530f501d",
   "metadata": {},
   "source": [
    "## Lonely Integer"
   ]
  },
  {
   "cell_type": "raw",
   "id": "0ba63f4c-5300-4d7b-a78f-06029e56c17f",
   "metadata": {},
   "source": [
    "Given an array of integers, where all elements but one occur twice, find the unique element.\n",
    "\n",
    "Example a = [1,2,3,4,3,2,1]\n",
    "\n",
    "The unique element is 4"
   ]
  },
  {
   "cell_type": "code",
   "execution_count": 5,
   "id": "17df441d-2e96-4fe8-96b9-eae28fac5fdc",
   "metadata": {},
   "outputs": [],
   "source": [
    "def lonelyinteger(a):\n",
    "    k = []\n",
    "    for i in a:\n",
    "        m = a.count(i)\n",
    "        if m == 1:\n",
    "            k.append(i)\n",
    "        else:\n",
    "            pass\n",
    "    return str(k)[1:-1] "
   ]
  },
  {
   "cell_type": "code",
   "execution_count": 7,
   "id": "6c21c6b3-3581-4ada-8db8-4143be061cc5",
   "metadata": {},
   "outputs": [],
   "source": [
    "a = [1,2,3,4,3,2,1]"
   ]
  },
  {
   "cell_type": "code",
   "execution_count": 8,
   "id": "94323934-3d31-47b2-bb28-473692c74b01",
   "metadata": {},
   "outputs": [
    {
     "data": {
      "text/plain": [
       "'4'"
      ]
     },
     "execution_count": 8,
     "metadata": {},
     "output_type": "execute_result"
    }
   ],
   "source": [
    "lonelyinteger(a)"
   ]
  }
 ],
 "metadata": {
  "kernelspec": {
   "display_name": "Python 3 (ipykernel)",
   "language": "python",
   "name": "python3"
  },
  "language_info": {
   "codemirror_mode": {
    "name": "ipython",
    "version": 3
   },
   "file_extension": ".py",
   "mimetype": "text/x-python",
   "name": "python",
   "nbconvert_exporter": "python",
   "pygments_lexer": "ipython3",
   "version": "3.8.12"
  }
 },
 "nbformat": 4,
 "nbformat_minor": 5
}
