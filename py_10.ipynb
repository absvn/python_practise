{
 "cells": [
  {
   "cell_type": "code",
   "execution_count": 1,
   "id": "a91e992b-2cd1-4934-b43f-ea7a05b160cb",
   "metadata": {},
   "outputs": [],
   "source": [
    "def countingValleys(steps, path):\n",
    "    v = 0\n",
    "    level = 0\n",
    "    for steps in path:\n",
    "        if(steps == 'U'):\n",
    "            level += 1\n",
    "            if(level == 0):\n",
    "                v += 1\n",
    "        elif(steps == 'D'):\n",
    "            level -= 1\n",
    "    return(v)"
   ]
  }
 ],
 "metadata": {
  "kernelspec": {
   "display_name": "Python 3 (ipykernel)",
   "language": "python",
   "name": "python3"
  },
  "language_info": {
   "codemirror_mode": {
    "name": "ipython",
    "version": 3
   },
   "file_extension": ".py",
   "mimetype": "text/x-python",
   "name": "python",
   "nbconvert_exporter": "python",
   "pygments_lexer": "ipython3",
   "version": "3.8.12"
  }
 },
 "nbformat": 4,
 "nbformat_minor": 5
}
