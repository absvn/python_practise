{
 "cells": [
  {
   "cell_type": "markdown",
   "id": "27ae353e-e5a7-4578-9aaf-b192ab14e6c4",
   "metadata": {},
   "source": [
    "## diagonal difference of matrix"
   ]
  },
  {
   "cell_type": "code",
   "execution_count": 5,
   "id": "d7515706-5893-4601-97b1-1d6ae4758066",
   "metadata": {},
   "outputs": [],
   "source": [
    "def diagonalDifference(arr):\n",
    "    arr_2 = []\n",
    "    diag_1 = 0\n",
    "    diag_2 = 0\n",
    "    for i in range(len(arr)):\n",
    "        arr_2.append(arr[i][::-1])\n",
    "    for m in range(len(arr)):\n",
    "        for k in range(len(arr)):\n",
    "            if m == k:\n",
    "                diag_1 += arr[m][k]\n",
    "            else:\n",
    "                pass\n",
    "            \n",
    "    \n",
    "    for l in range(len(arr_2)):\n",
    "        for t in range(len(arr_2)):\n",
    "            if l == t:\n",
    "                diag_2 += arr_2[l][t]\n",
    "            else:\n",
    "                pass        \n",
    "    \n",
    "    return abs(diag_1 - diag_2)"
   ]
  },
  {
   "cell_type": "code",
   "execution_count": 6,
   "id": "0f004a66-7e0c-42d3-b7c5-9bb5e7d25cad",
   "metadata": {},
   "outputs": [
    {
     "data": {
      "text/plain": [
       "2"
      ]
     },
     "execution_count": 6,
     "metadata": {},
     "output_type": "execute_result"
    }
   ],
   "source": [
    "arr= [[1, 2, 3], [4, 5, 6], [9, 8, 9]]\n",
    "diagonalDifference(arr)"
   ]
  }
 ],
 "metadata": {
  "kernelspec": {
   "display_name": "Python 3 (ipykernel)",
   "language": "python",
   "name": "python3"
  },
  "language_info": {
   "codemirror_mode": {
    "name": "ipython",
    "version": 3
   },
   "file_extension": ".py",
   "mimetype": "text/x-python",
   "name": "python",
   "nbconvert_exporter": "python",
   "pygments_lexer": "ipython3",
   "version": "3.8.12"
  }
 },
 "nbformat": 4,
 "nbformat_minor": 5
}
