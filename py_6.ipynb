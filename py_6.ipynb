{
 "cells": [
  {
   "cell_type": "code",
   "execution_count": 1,
   "id": "9e33f886-1f96-4a0b-a439-81084e3f4b97",
   "metadata": {},
   "outputs": [],
   "source": [
    "def sockMerchant(n, ar):\n",
    "    count = 0\n",
    "    ar.sort()\n",
    "    ar.append('#')\n",
    "    i = 0\n",
    "    while i<n:\n",
    "        if ar[i]==ar[i+1]:\n",
    "            count = count+1\n",
    "            i+=2\n",
    "        else:\n",
    "            i+=1\n",
    "    return count"
   ]
  }
 ],
 "metadata": {
  "kernelspec": {
   "display_name": "Python 3 (ipykernel)",
   "language": "python",
   "name": "python3"
  },
  "language_info": {
   "codemirror_mode": {
    "name": "ipython",
    "version": 3
   },
   "file_extension": ".py",
   "mimetype": "text/x-python",
   "name": "python",
   "nbconvert_exporter": "python",
   "pygments_lexer": "ipython3",
   "version": "3.8.12"
  }
 },
 "nbformat": 4,
 "nbformat_minor": 5
}
