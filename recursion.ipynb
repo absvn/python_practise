{
 "cells": [
  {
   "cell_type": "code",
   "execution_count": 4,
   "id": "7376aa83-2af8-4195-928c-90ded9a7ebff",
   "metadata": {},
   "outputs": [
    {
     "data": {
      "text/plain": [
       "6"
      ]
     },
     "execution_count": 4,
     "metadata": {},
     "output_type": "execute_result"
    }
   ],
   "source": [
    "def binarysearch(target, start, end, sorted_list):\n",
    "    if start <= end:\n",
    "        mid = (start+end)//2\n",
    "\n",
    "        if sorted_list[mid] == target:\n",
    "            return mid + 1\n",
    "        \n",
    "        elif target < sorted_list[mid]:\n",
    "            return binarysearch(target, start, mid-1, sorted_list)\n",
    "        \n",
    "        elif target > sorted_list[mid]:\n",
    "            return binarysearch(target, mid+1, end, sorted_list)\n",
    "        \n",
    "    else:\n",
    "        return -1\n",
    "    \n",
    "binarysearch(27, 0, 9, [1,2,4,8,26,27,48,89,99])"
   ]
  },
  {
   "cell_type": "code",
   "execution_count": 5,
   "id": "8967af6d-daba-41e5-b3e6-e00fd6fd299f",
   "metadata": {},
   "outputs": [
    {
     "data": {
      "text/plain": [
       "6"
      ]
     },
     "execution_count": 5,
     "metadata": {},
     "output_type": "execute_result"
    }
   ],
   "source": [
    "def linearsearch(target, start, end, sorted_list):\n",
    "    if start > end:\n",
    "        return -1\n",
    "    if sorted_list[start] == target:\n",
    "        return start\n",
    "    if sorted_list[end] == target:\n",
    "        return end\n",
    "    return linearsearch(target, start+1, end-1, sorted_list)\n",
    "\n",
    "binarysearch(27, 0, 9, [1,2,4,8,26,27,48,89,99])"
   ]
  },
  {
   "cell_type": "code",
   "execution_count": null,
   "id": "e441b59f-1b4f-42c9-afa0-ecf7b3f820a1",
   "metadata": {},
   "outputs": [],
   "source": []
  }
 ],
 "metadata": {
  "kernelspec": {
   "display_name": "Python 3 (ipykernel)",
   "language": "python",
   "name": "python3"
  },
  "language_info": {
   "codemirror_mode": {
    "name": "ipython",
    "version": 3
   },
   "file_extension": ".py",
   "mimetype": "text/x-python",
   "name": "python",
   "nbconvert_exporter": "python",
   "pygments_lexer": "ipython3",
   "version": "3.10.6"
  }
 },
 "nbformat": 4,
 "nbformat_minor": 5
}
