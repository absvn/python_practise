{
 "cells": [
  {
   "cell_type": "code",
   "execution_count": 1,
   "id": "b836e548-2fe6-4ea5-bf48-7b7f6bc792da",
   "metadata": {},
   "outputs": [],
   "source": [
    "def beautifulDays(i, j, k):\n",
    "    total = []\n",
    "    reverse = []\n",
    "    real = [s for s in range(i,j+1)]\n",
    "    for t in real:\n",
    "        q = str(t)[::-1]\n",
    "        q = int(q)\n",
    "        reverse.append(q)\n",
    "    for item_1, item_2 in zip(real, reverse):\n",
    "        d = (item_1 - item_2)%k\n",
    "        if d == 0:\n",
    "            total.append(d)\n",
    "        else:\n",
    "            pass\n",
    "    return (len(total))"
   ]
  },
  {
   "cell_type": "code",
   "execution_count": 2,
   "id": "c8053901-d9b9-4f01-a539-6c9feae034d6",
   "metadata": {},
   "outputs": [
    {
     "data": {
      "text/plain": [
       "2"
      ]
     },
     "execution_count": 2,
     "metadata": {},
     "output_type": "execute_result"
    }
   ],
   "source": [
    "beautifulDays(20,23,6)"
   ]
  }
 ],
 "metadata": {
  "kernelspec": {
   "display_name": "Python 3 (ipykernel)",
   "language": "python",
   "name": "python3"
  },
  "language_info": {
   "codemirror_mode": {
    "name": "ipython",
    "version": 3
   },
   "file_extension": ".py",
   "mimetype": "text/x-python",
   "name": "python",
   "nbconvert_exporter": "python",
   "pygments_lexer": "ipython3",
   "version": "3.8.12"
  }
 },
 "nbformat": 4,
 "nbformat_minor": 5
}
