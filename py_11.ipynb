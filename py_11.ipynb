{
 "cells": [
  {
   "cell_type": "code",
   "execution_count": 1,
   "id": "49759193-fbb8-4be1-b1b2-a77d08eeaef1",
   "metadata": {},
   "outputs": [],
   "source": [
    "def getMoneySpent(keyboards, drives, b):\n",
    "    total = []\n",
    "    t = 0\n",
    "    for i in range(len(keyboards)):\n",
    "        for j in range(len(drives)):\n",
    "            t = keyboards[i] + drives[j]\n",
    "            if t <= b:\n",
    "                total.append(t)\n",
    "            else: \n",
    "                pass\n",
    "    if len(total) > 0:\n",
    "        total.sort(reverse=True)\n",
    "        return total[0]\n",
    "    else:\n",
    "        return -1"
   ]
  }
 ],
 "metadata": {
  "kernelspec": {
   "display_name": "Python 3 (ipykernel)",
   "language": "python",
   "name": "python3"
  },
  "language_info": {
   "codemirror_mode": {
    "name": "ipython",
    "version": 3
   },
   "file_extension": ".py",
   "mimetype": "text/x-python",
   "name": "python",
   "nbconvert_exporter": "python",
   "pygments_lexer": "ipython3",
   "version": "3.8.12"
  }
 },
 "nbformat": 4,
 "nbformat_minor": 5
}
