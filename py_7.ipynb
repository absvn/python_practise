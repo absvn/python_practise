{
 "cells": [
  {
   "cell_type": "code",
   "execution_count": 1,
   "id": "d7fbef9a-704d-4b3c-81bf-4b8ecfe70afa",
   "metadata": {},
   "outputs": [],
   "source": [
    "def ap_orag(s, t, a, b, apples, oranges):\n",
    "    count_apples = 0\n",
    "    count_oranges= 0\n",
    "    for i in range(len(apples)):\n",
    "        if a+apples[i] >= s and a+apples[i] <= t:\n",
    "            count_apples +=1\n",
    "    for i in range(len(oranges)):\n",
    "        if b+oranges[i] >= s and b+oranges[i] <= t:\n",
    "            count_oranges +=1\n",
    "    print(count_apples)\n",
    "    print(count_oranges)"
   ]
  }
 ],
 "metadata": {
  "kernelspec": {
   "display_name": "Python 3 (ipykernel)",
   "language": "python",
   "name": "python3"
  },
  "language_info": {
   "codemirror_mode": {
    "name": "ipython",
    "version": 3
   },
   "file_extension": ".py",
   "mimetype": "text/x-python",
   "name": "python",
   "nbconvert_exporter": "python",
   "pygments_lexer": "ipython3",
   "version": "3.8.12"
  }
 },
 "nbformat": 4,
 "nbformat_minor": 5
}
