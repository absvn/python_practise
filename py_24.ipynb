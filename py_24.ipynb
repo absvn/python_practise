{
 "cells": [
  {
   "cell_type": "code",
   "execution_count": 17,
   "id": "19df2896-c9f4-42c4-a72a-4ab169526e73",
   "metadata": {},
   "outputs": [
    {
     "name": "stdout",
     "output_type": "stream",
     "text": [
      "[(1, 2), (3,)]\n"
     ]
    }
   ],
   "source": [
    "import itertools\n",
    "n = [1, 2, 3]\n",
    "t = 3\n",
    "r = [total for i in range(len(n), 0, -1) \n",
    "          for total in itertools.combinations(n, i) \n",
    "          if sum(total) == t]\n",
    "print(r)"
   ]
  },
  {
   "cell_type": "code",
   "execution_count": null,
   "id": "a9d0e300-6cd8-4129-b5d5-a2fc6cbe7d0c",
   "metadata": {},
   "outputs": [],
   "source": []
  }
 ],
 "metadata": {
  "kernelspec": {
   "display_name": "Python 3 (ipykernel)",
   "language": "python",
   "name": "python3"
  },
  "language_info": {
   "codemirror_mode": {
    "name": "ipython",
    "version": 3
   },
   "file_extension": ".py",
   "mimetype": "text/x-python",
   "name": "python",
   "nbconvert_exporter": "python",
   "pygments_lexer": "ipython3",
   "version": "3.8.12"
  }
 },
 "nbformat": 4,
 "nbformat_minor": 5
}
