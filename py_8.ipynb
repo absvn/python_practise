{
 "cells": [
  {
   "cell_type": "code",
   "execution_count": 1,
   "id": "e0fcf419-0fdb-4c66-a5db-fb9ecfd24370",
   "metadata": {},
   "outputs": [],
   "source": [
    "def migratoryBirds(arr):\n",
    "    count = [0] * 6\n",
    "    for i in arr:\n",
    "        count[i] += 1\n",
    "    return count.index(max(count))"
   ]
  }
 ],
 "metadata": {
  "kernelspec": {
   "display_name": "Python 3 (ipykernel)",
   "language": "python",
   "name": "python3"
  },
  "language_info": {
   "codemirror_mode": {
    "name": "ipython",
    "version": 3
   },
   "file_extension": ".py",
   "mimetype": "text/x-python",
   "name": "python",
   "nbconvert_exporter": "python",
   "pygments_lexer": "ipython3",
   "version": "3.8.12"
  }
 },
 "nbformat": 4,
 "nbformat_minor": 5
}
