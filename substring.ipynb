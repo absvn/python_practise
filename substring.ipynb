{
 "cells": [
  {
   "cell_type": "code",
   "execution_count": 59,
   "id": "782f1c14-1551-4451-aee9-93cde01966df",
   "metadata": {},
   "outputs": [
    {
     "name": "stdout",
     "output_type": "stream",
     "text": [
      "6\n"
     ]
    }
   ],
   "source": [
    "def substring(word):\n",
    "    word = list(set(word))\n",
    "    word = ''.join(word)\n",
    "    sub_string = []\n",
    "    l = len(word)\n",
    "    for i in range(l):\n",
    "        for k in range(i+1,l+1):         \n",
    "            sub_string.append(word[i:k])\n",
    "    print(len(sub_string))\n",
    "\n",
    "substring('aabc')"
   ]
  }
 ],
 "metadata": {
  "kernelspec": {
   "display_name": "Python 3 (ipykernel)",
   "language": "python",
   "name": "python3"
  },
  "language_info": {
   "codemirror_mode": {
    "name": "ipython",
    "version": 3
   },
   "file_extension": ".py",
   "mimetype": "text/x-python",
   "name": "python",
   "nbconvert_exporter": "python",
   "pygments_lexer": "ipython3",
   "version": "3.10.6"
  }
 },
 "nbformat": 4,
 "nbformat_minor": 5
}
