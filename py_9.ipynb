{
 "cells": [
  {
   "cell_type": "code",
   "execution_count": 1,
   "id": "173a4185-043f-46af-a44f-f416b6ebdc28",
   "metadata": {},
   "outputs": [],
   "source": [
    "def bonAppetit(bill, k, b):\n",
    "    count = 0\n",
    "    for i in range(len(bill)):\n",
    "        if(i!=k):\n",
    "            count += bill[i]\n",
    "    pay = count//2\n",
    "    if(pay!=b):\n",
    "        print(b-pay)\n",
    "    else:\n",
    "        print('Bon Appetit')"
   ]
  }
 ],
 "metadata": {
  "kernelspec": {
   "display_name": "Python 3 (ipykernel)",
   "language": "python",
   "name": "python3"
  },
  "language_info": {
   "codemirror_mode": {
    "name": "ipython",
    "version": 3
   },
   "file_extension": ".py",
   "mimetype": "text/x-python",
   "name": "python",
   "nbconvert_exporter": "python",
   "pygments_lexer": "ipython3",
   "version": "3.8.12"
  }
 },
 "nbformat": 4,
 "nbformat_minor": 5
}
