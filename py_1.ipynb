{
 "cells": [
  {
   "cell_type": "code",
   "execution_count": 3,
   "id": "888e9b6c-8042-4152-be2c-bde6088aaf8c",
   "metadata": {},
   "outputs": [
    {
     "name": "stdout",
     "output_type": "stream",
     "text": [
      "T : 4\n",
      "L1 : [2, 4, 5, 6]\n",
      "L2 : [7, 8]\n",
      "[7, 8, 2, 4, 5, 6]\n"
     ]
    }
   ],
   "source": [
    "n = [2,4,5,6,7,8]\n",
    "k = 2\n",
    "\n",
    "list_1 = []\n",
    "list_2 = []\n",
    "\n",
    "t = len(n) - k\n",
    "print('T :', t)\n",
    "\n",
    "for i,j in enumerate(n):\n",
    "    if i < t:\n",
    "        list_1.append(j)\n",
    "    else:\n",
    "        list_2.append(j)\n",
    "\n",
    "#list_2.reverse()\n",
    "total = list_2 + list_1\n",
    "\n",
    "print('L1 :', list_1)\n",
    "print('L2 :', list_2)\n",
    "print(total)"
   ]
  }
 ],
 "metadata": {
  "kernelspec": {
   "display_name": "Python 3 (ipykernel)",
   "language": "python",
   "name": "python3"
  },
  "language_info": {
   "codemirror_mode": {
    "name": "ipython",
    "version": 3
   },
   "file_extension": ".py",
   "mimetype": "text/x-python",
   "name": "python",
   "nbconvert_exporter": "python",
   "pygments_lexer": "ipython3",
   "version": "3.8.12"
  }
 },
 "nbformat": 4,
 "nbformat_minor": 5
}
